{
 "cells": [
  {
   "cell_type": "markdown",
   "metadata": {},
   "source": [
    "# Read drifter data"
   ]
  },
  {
   "cell_type": "code",
   "execution_count": 1,
   "metadata": {},
   "outputs": [],
   "source": [
    "import numpy as np\n",
    "import pandas as pd\n",
    "import matplotlib.pyplot as plt\n",
    "import os"
   ]
  },
  {
   "cell_type": "code",
   "execution_count": 10,
   "metadata": {},
   "outputs": [
    {
     "name": "stdout",
     "output_type": "stream",
     "text": [
      "['/Users/georgecowie/Documents/Master/Masteroppgave/data/Drifters/Supraglacial channel/21072021/M24']\n",
      "['.DS_Store', '13072021', '15072021', '17072021', '18072021', '21072021']\n"
     ]
    }
   ],
   "source": [
    "\n",
    "\"\"\"\n",
    "Find the path to files in subfolders using os.listdir\n",
    "\"\"\"\n",
    "\n",
    "path = \"/Users/georgecowie/Documents/Master/Masteroppgave/data/Drifters/Supraglacial channel\"\n",
    "\n",
    "#T_path_0607 = T_path + str('0607')\n",
    "\n",
    "filenames = os.listdir(path)\n",
    "def a():\n",
    "    subfolders_with_paths = [f.path for f in os.scandir(path) if f.is_dir()]\n",
    "    for subpath in subfolders_with_paths:\n",
    "        subfolders_with_paths = [f.path for f in os.scandir(subpath) if f.is_dir()]\n",
    "    print((subfolders_with_paths))\n",
    "\n",
    "a()\n"
   ]
  },
  {
   "cell_type": "code",
   "execution_count": null,
   "metadata": {},
   "outputs": [],
   "source": [
    "def temp_read(filename,path):\n",
    "    \n",
    "    return T"
   ]
  }
 ],
 "metadata": {
  "kernelspec": {
   "display_name": "base",
   "language": "python",
   "name": "base"
  },
  "language_info": {
   "codemirror_mode": {
    "name": "ipython",
    "version": 3
   },
   "file_extension": ".py",
   "mimetype": "text/x-python",
   "name": "python",
   "nbconvert_exporter": "python",
   "pygments_lexer": "ipython3",
   "version": "3.8.5"
  }
 },
 "nbformat": 4,
 "nbformat_minor": 4
}
