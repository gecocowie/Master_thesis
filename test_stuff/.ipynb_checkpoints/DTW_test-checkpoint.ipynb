{
 "cells": [
  {
   "cell_type": "markdown",
   "metadata": {},
   "source": [
    "Blog posts:\n",
    "https://effectiveml.com/dynamic-time-warping-for-sequence-classification.html\n",
    "https://towardsdatascience.com/time-series-classification-using-dynamic-time-warping-61dcd9e143f6"
   ]
  },
  {
   "cell_type": "code",
   "execution_count": null,
   "metadata": {},
   "outputs": [],
   "source": [
    "from dtaidistance import dtw\n",
    "from dtaidistance import dtw_visualisation as dtwvis\n",
    "import random\n",
    "import numpy as np\n",
    "\n",
    "def dynamic_time_warping(s1,s2):\n",
    "    #s1 = np.sin(x)\n",
    "    #s2 = np.sin(x - 1)\n",
    "    path = dtw.warping_path(s1, s2)\n",
    "    #dtwvis.plot_warping(s1, s2, path)\n",
    "    #distance = dtw.distance(s1, s2)\n",
    "    print(distance)"
   ]
  },
  {
   "cell_type": "code",
   "execution_count": null,
   "metadata": {},
   "outputs": [],
   "source": [
    "load_path = \"/Users/georgecowie/Documents/Master/Masteroppgave/data/2020/processed_drifter_data/distance_profiles/16082020\"\n",
    "dp_16_1 = np.loadtxt(load_path+\"/Single_query_1608_1\")\n",
    "dp_16_2 = np.loadtxt(load_path+\"/Single_query_1608_2\")\n",
    "dp_16_3 = np.loadtxt(load_path+\"/Single_query_1608_3\")\n",
    "dp_16_4 = np.loadtxt(load_path+\"/Single_query_1608_4\")\n",
    "dp_16_5 = np.loadtxt(load_path+\"/Single_query_1608_5\")\n",
    "dp_16_6 = np.loadtxt(load_path+\"/Single_query_1608_6\")\n",
    "dp_16_7 = np.loadtxt(load_path+\"/Single_query_1608_7\")\n",
    "dp_16_8 = np.loadtxt(load_path+\"/Single_query_1608_8\")\n",
    "dp_16_9 = np.loadtxt(load_path+\"/Single_query_1608_9\")\n",
    "\n",
    "dynamic_time_warping(dp_16_1,dp_16_2)"
   ]
  }
 ],
 "metadata": {
  "kernelspec": {
   "display_name": "master_env",
   "language": "python",
   "name": "master_env"
  },
  "language_info": {
   "codemirror_mode": {
    "name": "ipython",
    "version": 3
   },
   "file_extension": ".py",
   "mimetype": "text/x-python",
   "name": "python",
   "nbconvert_exporter": "python",
   "pygments_lexer": "ipython3",
   "version": "3.8.5"
  }
 },
 "nbformat": 4,
 "nbformat_minor": 4
}
