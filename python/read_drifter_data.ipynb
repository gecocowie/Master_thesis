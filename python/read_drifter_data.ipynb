{
 "cells": [
  {
   "cell_type": "markdown",
   "metadata": {},
   "source": [
    "# Read drifter data"
   ]
  },
  {
   "cell_type": "code",
   "execution_count": null,
   "metadata": {},
   "outputs": [],
   "source": [
    "import numpy as np\n",
    "import pandas as pd\n",
    "import matplotlib.pyplot as plt\n",
    "import os"
   ]
  },
  {
   "cell_type": "code",
   "execution_count": null,
   "metadata": {},
   "outputs": [],
   "source": [
    "\n",
    "\"\"\"\n",
    "Find the path to files in subfolders using os.listdir\n",
    "The path is the same for each station except for the station name in the third subfolder\n",
    "\"\"\"\n",
    "T_path = 'project_data/temp/'\n",
    "\n",
    "T_path_0607 = T_path + str('0607')\n",
    "T_path_0804 = T_path + str('0804')\n",
    "T_path_0814 = T_path + str('0814')\n",
    "T_path_0902 = T_path + str('0902')\n",
    "T_path_1055 = T_path + str('1055')\n",
    "\n",
    "filenames_0607 = os.listdir(T_path_0607)\n",
    "filenames_0804 = os.listdir(T_path_0804)\n",
    "filenames_0814 = os.listdir(T_path_0814)\n",
    "filenames_0902 = os.listdir(T_path_0902)\n",
    "filenames_1055 = os.listdir(T_path_1055)"
   ]
  }
 ],
 "metadata": {
  "kernelspec": {
   "display_name": "base",
   "language": "python",
   "name": "base"
  },
  "language_info": {
   "codemirror_mode": {
    "name": "ipython",
    "version": 3
   },
   "file_extension": ".py",
   "mimetype": "text/x-python",
   "name": "python",
   "nbconvert_exporter": "python",
   "pygments_lexer": "ipython3",
   "version": "3.8.5"
  }
 },
 "nbformat": 4,
 "nbformat_minor": 4
}
